{
 "cells": [
  {
   "cell_type": "code",
   "execution_count": null,
   "id": "38f7994b-4ce0-4cb2-a7f7-d333200bad35",
   "metadata": {},
   "outputs": [],
   "source": [
    "from pystratus import PyStratusV2"
   ]
  },
  {
   "cell_type": "code",
   "execution_count": null,
   "id": "3d5f1b48-69b3-4bde-ab0c-88ba940315aa",
   "metadata": {},
   "outputs": [],
   "source": [
    "# client = PyStratusV2()\n",
    "\n",
    "testing_bucket = \"testllmdataset\""
   ]
  },
  {
   "cell_type": "markdown",
   "id": "88a26c0b-3ab6-4fe3-8258-5b69fba99b10",
   "metadata": {},
   "source": [
    "## PyStratus API Calls"
   ]
  },
  {
   "cell_type": "code",
   "execution_count": null,
   "id": "d923f7ef-1ee9-4016-a9e4-52dd08d39d7d",
   "metadata": {},
   "outputs": [],
   "source": [
    "for item in client.list_all_buckets():\n",
    "    if item[\"name\"] == testing_bucket:\n",
    "        print(item)"
   ]
  },
  {
   "cell_type": "code",
   "execution_count": null,
   "id": "e962f587-fff2-451e-b6cc-99c1ecaaf82e",
   "metadata": {},
   "outputs": [],
   "source": [
    "client.head_bucket(bucket_name=testing_bucket)"
   ]
  },
  {
   "cell_type": "code",
   "execution_count": null,
   "id": "894bb1fc-1cac-4366-9ece-9567665abdd9",
   "metadata": {},
   "outputs": [],
   "source": [
    "client.list_objects_in_bucket(testing_bucket)"
   ]
  },
  {
   "cell_type": "markdown",
   "id": "0e40962b-813d-4662-9b4d-ba137840fa45",
   "metadata": {},
   "source": [
    "## DVC Related Functions"
   ]
  },
  {
   "cell_type": "code",
   "execution_count": null,
   "id": "dcc45495-79a5-45c7-925c-1e87b9b98395",
   "metadata": {},
   "outputs": [],
   "source": [
    "def bytes_to_gb(size):\n",
    "    return size / (1024**3)\n",
    "    \n",
    "# dvc related stuffs\n",
    "def get_object_name(md5_hash: str):\n",
    "    return md5_hash[:2] + \"/\" + md5_hash[2:]\n",
    "\n",
    "\n",
    "def get_md5(path: str):\n",
    "    return OmegaConf.load(path).outs[0].md5\n",
    "\n",
    "\n",
    "def read_dir(bucket_name: str, md5_dir_hash: str):\n",
    "    data = b\"\"  # Byte literal\n",
    "    object_name = get_object_name(md5_dir_hash)\n",
    "    for chunk in client.download_object(bucket_name, object_name):\n",
    "        data += chunk\n",
    "    objects: list = json.load(io.BytesIO(data))\n",
    "    # print(objects)\n",
    "\n",
    "    object_names: list = []\n",
    "    file_paths: list = []\n",
    "    for item in objects:\n",
    "        object_names.append(get_object_name(item[\"md5\"]))\n",
    "        file_paths.append(item[\"relpath\"])\n",
    "\n",
    "    return object_names, file_paths"
   ]
  },
  {
   "cell_type": "markdown",
   "id": "48354de7-3bba-4315-9625-ff5ddc096920",
   "metadata": {},
   "source": [
    "## Dialogsum details"
   ]
  },
  {
   "cell_type": "code",
   "execution_count": null,
   "id": "7515a3f2-034d-4cfe-bd0e-5fffdd99d120",
   "metadata": {},
   "outputs": [],
   "source": [
    "folder_md5 = get_object_name(\"c33ba395000d0fa1d2e6c2045d26a29d.dir\") # Of the folder\n",
    "file_md5 = get_object_name(\"e4b8bb8e83c9356dfbed441453348da0\")\n",
    "\n",
    "bucket = \"testllmdataset\"\n",
    "\n",
    "print(f\"{folder_md5}\\n{file_md5}\")"
   ]
  },
  {
   "cell_type": "markdown",
   "id": "a0b680db-f551-4cbb-9291-cbaeb8671efc",
   "metadata": {},
   "source": [
    "## Dialogsum in GDrive"
   ]
  },
  {
   "cell_type": "code",
   "execution_count": null,
   "id": "eedef8d6-7a84-46d0-80e6-dc6d866a0615",
   "metadata": {},
   "outputs": [],
   "source": [
    "import dvc.api\n",
    "\n",
    "dvc.api.open"
   ]
  },
  {
   "cell_type": "code",
   "execution_count": null,
   "id": "ad2363d8-2209-4f21-851a-9ec1523e2bf4",
   "metadata": {},
   "outputs": [],
   "source": [
    "# !conda list dvc # 2.41.1  \n",
    "!dvc remote list\n",
    "!dvc remote default"
   ]
  },
  {
   "cell_type": "code",
   "execution_count": null,
   "id": "6ee670e1-820c-4309-95eb-1b4388781613",
   "metadata": {},
   "outputs": [],
   "source": [
    "# !pip install 'dvc[gdrive]'\n",
    "# !pip install pyarrow\n",
    "\n",
    "import pyarrow\n",
    "\n",
    "dataset_path = \"train-00000-of-00001-367270308b568067.parquet\" # dataset_path = \"e4/b8bb8e83c9356dfbed441453348da0\"\n",
    "try:\n",
    "    with dvc.api.open(dataset_path, remote=\"gdrive\", mode=\"rb\") as f:\n",
    "        # Read the entire file as bytes directly\n",
    "        bytes_data = f.read()\n",
    "\n",
    "        # Check if the bytes are empty before attempting to read as Parquet\n",
    "        if not bytes_data:\n",
    "            raise ValueError(\"Empty file received from GDrive\")\n",
    "\n",
    "        reader = pyarrow.BufferReader(bytes_data)\n",
    "        table = pq.read_table(reader)\n",
    "\n",
    "        print(\"Parquet data read successfully!\")\n",
    "except Exception as e:\n",
    "    print(f\"Error encountered: {e}\")"
   ]
  },
  {
   "cell_type": "code",
   "execution_count": null,
   "id": "3be098ab-cdec-4c98-b7fe-7eae99608658",
   "metadata": {},
   "outputs": [],
   "source": [
    "# from datasets import load_dataset\n",
    "# dataset_path = \"/home/gayathri-12052/workspace/llm/open_sources/tools/datasets-viewer/sample_dvc/train-00000-of-00001-367270308b568067.parquet\"\n",
    "# data = load_dataset(\n",
    "#     \"parquet\",\n",
    "#     data_files=str(dataset_path)\n",
    "# )"
   ]
  },
  {
   "cell_type": "markdown",
   "id": "4677cd84-8914-42e4-a931-c90f9febe52d",
   "metadata": {},
   "source": [
    "## Dialogsum in Stratus"
   ]
  },
  {
   "cell_type": "code",
   "execution_count": null,
   "id": "73f1d292-a000-4095-a34d-eeb80dd79678",
   "metadata": {},
   "outputs": [],
   "source": [
    "ai_stratus_url = \"https://ai-stratus.localzoho.com\""
   ]
  },
  {
   "cell_type": "code",
   "execution_count": null,
   "id": "c59c0b8a-efcb-44ae-b9c7-30fd64f79596",
   "metadata": {},
   "outputs": [],
   "source": []
  }
 ],
 "metadata": {
  "kernelspec": {
   "display_name": "Python 3 (ipykernel)",
   "language": "python",
   "name": "python3"
  },
  "language_info": {
   "codemirror_mode": {
    "name": "ipython",
    "version": 3
   },
   "file_extension": ".py",
   "mimetype": "text/x-python",
   "name": "python",
   "nbconvert_exporter": "python",
   "pygments_lexer": "ipython3",
   "version": "3.10.12"
  }
 },
 "nbformat": 4,
 "nbformat_minor": 5
}
